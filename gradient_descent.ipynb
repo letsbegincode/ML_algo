{
  "nbformat": 4,
  "nbformat_minor": 0,
  "metadata": {
    "colab": {
      "provenance": [],
      "authorship_tag": "ABX9TyMjfVc2rREh9Qc4KSgxGhxh",
      "include_colab_link": true
    },
    "kernelspec": {
      "name": "python3",
      "display_name": "Python 3"
    },
    "language_info": {
      "name": "python"
    }
  },
  "cells": [
    {
      "cell_type": "markdown",
      "metadata": {
        "id": "view-in-github",
        "colab_type": "text"
      },
      "source": [
        "<a href=\"https://colab.research.google.com/github/letsbegincode/ML_algo/blob/main/gradient_descent.ipynb\" target=\"_parent\"><img src=\"https://colab.research.google.com/assets/colab-badge.svg\" alt=\"Open In Colab\"/></a>"
      ]
    },
    {
      "cell_type": "markdown",
      "source": [
        "\n",
        "\n",
        "#  Implementation of Gradient Descent\n",
        "\n"
      ],
      "metadata": {
        "id": "jYoJ49UTWoar"
      }
    },
    {
      "cell_type": "code",
      "source": [],
      "metadata": {
        "id": "QPkpr4eBWn-c"
      },
      "execution_count": null,
      "outputs": []
    },
    {
      "cell_type": "markdown",
      "source": [
        "# Gradient Descent Variants\n",
        "\n",
        "## Introduction\n",
        "Gradient Descent is an optimization algorithm used to minimize functions, commonly used in machine learning to minimize the cost function. Below, we cover various types of gradient descent methods, including Batch Gradient Descent, Stochastic Gradient Descent, and Mini-Batch Gradient Descent."
      ],
      "metadata": {
        "id": "9PKheIMXbU18"
      }
    },
    {
      "cell_type": "code",
      "source": [],
      "metadata": {
        "id": "L0w7YJ6sbWFJ"
      },
      "execution_count": null,
      "outputs": []
    },
    {
      "cell_type": "markdown",
      "source": [
        "# Task 1: Generating a Random Dataset and Finding Coefficients Using Gradient Descent\n",
        "\n",
        "## Objective\n",
        "In this task, we will:\n",
        "1. Generate a random dataset using the `make_regression` function from `sklearn`.\n",
        "2. Use gradient descent to find the coefficients (`coef_`) and intercept (`intercept_`) of a linear regression model.\n"
      ],
      "metadata": {
        "id": "im9CH_kyaGqL"
      }
    },
    {
      "cell_type": "code",
      "source": [],
      "metadata": {
        "id": "k5qGPrkzW50G"
      },
      "execution_count": null,
      "outputs": []
    },
    {
      "cell_type": "code",
      "execution_count": 2,
      "metadata": {
        "id": "FxkQsfFrLfaC"
      },
      "outputs": [],
      "source": [
        "from sklearn.datasets import make_regression\n",
        "from sklearn.model_selection import train_test_split\n",
        "\n",
        "import numpy as np\n",
        "import matplotlib.pyplot as plt"
      ]
    },
    {
      "cell_type": "code",
      "source": [
        "X,y = make_regression(n_samples=100,n_features=1,n_informative=1,n_targets=1,noise=20,random_state=13)"
      ],
      "metadata": {
        "id": "7B-hyJt9NUON"
      },
      "execution_count": 4,
      "outputs": []
    },
    {
      "cell_type": "code",
      "source": [
        "plt.figure(figsize=(2,2))\n",
        "plt.scatter(X,y)\n",
        "plt.show()"
      ],
      "metadata": {
        "colab": {
          "base_uri": "https://localhost:8080/",
          "height": 214
        },
        "id": "_IU50ujnNT91",
        "outputId": "5c735765-7ee4-4eab-84d1-548134c51dbb"
      },
      "execution_count": 13,
      "outputs": [
        {
          "output_type": "display_data",
          "data": {
            "text/plain": [
              "<Figure size 200x200 with 1 Axes>"
            ],
            "image/png": "[encoded data removed]"
          },
          "metadata": {}
        }
      ]
    },
    {
      "cell_type": "code",
      "source": [
        "from sklearn.model_selection import train_test_split\n",
        "\n",
        "X_train,X_test,y_train,y_test = train_test_split(X,y,test_size=0.2,random_state= 2)"
      ],
      "metadata": {
        "id": "EapGvJRKO6W3"
      },
      "execution_count": 14,
      "outputs": []
    },
    {
      "cell_type": "code",
      "source": [
        "from sklearn.linear_model import LinearRegression\n",
        "\n",
        "lr = LinearRegression()\n",
        "lr.fit(X_train,y_train)"
      ],
      "metadata": {
        "colab": {
          "base_uri": "https://localhost:8080/",
          "height": 74
        },
        "id": "7UJp90yiO6NM",
        "outputId": "f3626b3e-4bfc-46f3-f626-cfa4d524cbd8"
      },
      "execution_count": 15,
      "outputs": [
        {
          "output_type": "execute_result",
          "data": {
            "text/plain": [
              "LinearRegression()"
            ],
            "text/html": [
              "<style>#sk-container-id-1 {color: black;}#sk-container-id-1 pre{padding: 0;}#sk-container-id-1 div.sk-toggleable {background-color: white;}#sk-container-id-1 label.sk-toggleable__label {cursor: pointer;display: block;width: 100%;margin-bottom: 0;padding: 0.3em;box-sizing: border-box;text-align: center;}#sk-container-id-1 label.sk-toggleable__label-arrow:before {content: \"▸\";float: left;margin-right: 0.25em;color: #696969;}#sk-container-id-1 label.sk-toggleable__label-arrow:hover:before {color: black;}#sk-container-id-1 div.sk-estimator:hover label.sk-toggleable__label-arrow:before {color: black;}#sk-container-id-1 div.sk-toggleable__content {max-height: 0;max-width: 0;overflow: hidden;text-align: left;background-color: #f0f8ff;}#sk-container-id-1 div.sk-toggleable__content pre {margin: 0.2em;color: black;border-radius: 0.25em;background-color: #f0f8ff;}#sk-container-id-1 input.sk-toggleable__control:checked~div.sk-toggleable__content {max-height: 200px;max-width: 100%;overflow: auto;}#sk-container-id-1 input.sk-toggleable__control:checked~label.sk-toggleable__label-arrow:before {content: \"▾\";}#sk-container-id-1 div.sk-estimator input.sk-toggleable__control:checked~label.sk-toggleable__label {background-color: #d4ebff;}#sk-container-id-1 div.sk-label input.sk-toggleable__control:checked~label.sk-toggleable__label {background-color: #d4ebff;}#sk-container-id-1 input.sk-hidden--visually {border: 0;clip: rect(1px 1px 1px 1px);clip: rect(1px, 1px, 1px, 1px);height: 1px;margin: -1px;overflow: hidden;padding: 0;position: absolute;width: 1px;}#sk-container-id-1 div.sk-estimator {font-family: monospace;background-color: #f0f8ff;border: 1px dotted black;border-radius: 0.25em;box-sizing: border-box;margin-bottom: 0.5em;}#sk-container-id-1 div.sk-estimator:hover {background-color: #d4ebff;}#sk-container-id-1 div.sk-parallel-item::after {content: \"\";width: 100%;border-bottom: 1px solid gray;flex-grow: 1;}#sk-container-id-1 div.sk-label:hover label.sk-toggleable__label {background-color: #d4ebff;}#sk-container-id-1 div.sk-serial::before {content: \"\";position: absolute;border-left: 1px solid gray;box-sizing: border-box;top: 0;bottom: 0;left: 50%;z-index: 0;}#sk-container-id-1 div.sk-serial {display: flex;flex-direction: column;align-items: center;background-color: white;padding-right: 0.2em;padding-left: 0.2em;position: relative;}#sk-container-id-1 div.sk-item {position: relative;z-index: 1;}#sk-container-id-1 div.sk-parallel {display: flex;align-items: stretch;justify-content: center;background-color: white;position: relative;}#sk-container-id-1 div.sk-item::before, #sk-container-id-1 div.sk-parallel-item::before {content: \"\";position: absolute;border-left: 1px solid gray;box-sizing: border-box;top: 0;bottom: 0;left: 50%;z-index: -1;}#sk-container-id-1 div.sk-parallel-item {display: flex;flex-direction: column;z-index: 1;position: relative;background-color: white;}#sk-container-id-1 div.sk-parallel-item:first-child::after {align-self: flex-end;width: 50%;}#sk-container-id-1 div.sk-parallel-item:last-child::after {align-self: flex-start;width: 50%;}#sk-container-id-1 div.sk-parallel-item:only-child::after {width: 0;}#sk-container-id-1 div.sk-dashed-wrapped {border: 1px dashed gray;margin: 0 0.4em 0.5em 0.4em;box-sizing: border-box;padding-bottom: 0.4em;background-color: white;}#sk-container-id-1 div.sk-label label {font-family: monospace;font-weight: bold;display: inline-block;line-height: 1.2em;}#sk-container-id-1 div.sk-label-container {text-align: center;}#sk-container-id-1 div.sk-container {/* jupyter's `normalize.less` sets `[hidden] { display: none; }` but bootstrap.min.css set `[hidden] { display: none !important; }` so we also need the `!important` here to be able to override the default hidden behavior on the sphinx rendered scikit-learn.org. See: https://github.com/scikit-learn/scikit-learn/issues/21755 */display: inline-block !important;position: relative;}#sk-container-id-1 div.sk-text-repr-fallback {display: none;}</style><div id=\"sk-container-id-1\" class=\"sk-top-container\"><div class=\"sk-text-repr-fallback\"><pre>LinearRegression()</pre><b>In a Jupyter environment, please rerun this cell to show the HTML representation or trust the notebook. <br />On GitHub, the HTML representation is unable to render, please try loading this page with nbviewer.org.</b></div><div class=\"sk-container\" hidden><div class=\"sk-item\"><div class=\"sk-estimator sk-toggleable\"><input class=\"sk-toggleable__control sk-hidden--visually\" id=\"sk-estimator-id-1\" type=\"checkbox\" checked><label for=\"sk-estimator-id-1\" class=\"sk-toggleable__label sk-toggleable__label-arrow\">LinearRegression</label><div class=\"sk-toggleable__content\"><pre>LinearRegression()</pre></div></div></div></div></div>"
            ]
          },
          "metadata": {},
          "execution_count": 15
        }
      ]
    },
    {
      "cell_type": "code",
      "source": [
        "y_pred = lr.predict(X_test)\n",
        "\n",
        "from sklearn.metrics import r2_score\n",
        "\n",
        "r2_score(y_test,y_pred)"
      ],
      "metadata": {
        "colab": {
          "base_uri": "https://localhost:8080/"
        },
        "id": "3ra0xPh9Pb2y",
        "outputId": "8d7320e0-93c9-420d-b5f2-65490d19e53e"
      },
      "execution_count": 16,
      "outputs": [
        {
          "output_type": "execute_result",
          "data": {
            "text/plain": [
              "0.6345158782661012"
            ]
          },
          "metadata": {},
          "execution_count": 16
        }
      ]
    },
    {
      "cell_type": "code",
      "source": [],
      "metadata": {
        "id": "Ayx_7C9iPbt8"
      },
      "execution_count": null,
      "outputs": []
    },
    {
      "cell_type": "code",
      "source": [],
      "metadata": {
        "id": "6UWBzvTBPoEQ"
      },
      "execution_count": null,
      "outputs": []
    },
    {
      "cell_type": "markdown",
      "source": [
        "Extension by first by making class for fit and predict using formula -\n",
        "\n",
        "### Mean Squared Error Cost Function\n",
        "$$\n",
        "J(m, b) = \\frac{1}{2n} \\sum_{i=1}^{n} (y_i - (mx_i + b))^2\n",
        "$$\n",
        "\n",
        "### Gradient with respect to \\( m \\)\n",
        "$$\n",
        "\\frac{\\partial J(m, b)}{\\partial m} = -\\frac{1}{n} \\sum_{i=1}^{n} x_i (y_i - (mx_i + b))\n",
        "$$\n",
        "\n",
        "### Gradient with respect to \\( b \\)\n",
        "$$\n",
        "\\frac{\\partial J(m, b)}{\\partial b} = -\\frac{1}{n} \\sum_{i=1}^{n} (y_i - (mx_i + b))\n",
        "$$\n",
        "\n",
        "### Update Rule for \\( m \\)\n",
        "$$\n",
        "m := m - \\alpha \\frac{\\partial J(m, b)}{\\partial m}\n",
        "$$\n",
        "\n",
        "### Update Rule for \\( b \\)\n",
        "$$\n",
        "b := b - \\alpha \\frac{\\partial J(m, b)}{\\partial b}\n",
        "$$\n",
        "\n",
        "Gradient with Respect to\n",
        "\n",
        "\n",
        "### Update Rule for \\( m \\)\n",
        "$$\n",
        "m := m - \\alpha \\left( -\\frac{1}{n} \\sum_{i=1}^{n} x_i (y_i - (mx_i + b)) \\right)\n",
        "$$\n",
        "\n",
        "### Update Rule for \\( b \\)\n",
        "$$\n",
        "b := b - \\alpha \\left( -\\frac{1}{n} \\sum_{i=1}^{n} (y_i - (mx_i + b)) \\right)\n",
        "$$\n"
      ],
      "metadata": {
        "id": "3wpBzZH_Xkvs"
      }
    },
    {
      "cell_type": "code",
      "source": [
        "\n",
        "class GDRegressor:\n",
        "\n",
        "    def __init__(self,learning_rate,epochs):\n",
        "        self.m = 100\n",
        "        self.b = -120\n",
        "        self.lr = learning_rate\n",
        "        self.epochs = epochs\n",
        "\n",
        "    def fit(self,X,y):\n",
        "        # calcualte the b using GD\n",
        "        for i in range(self.epochs):\n",
        "            loss_slope_b = -2 * np.sum(y - self.m*X.ravel() - self.b)\n",
        "            loss_slope_m = -2 * np.sum((y - self.m*X.ravel() - self.b)*X.ravel())\n",
        "\n",
        "            self.b = self.b - (self.lr * loss_slope_b)\n",
        "            self.m = self.m - (self.lr * loss_slope_m)\n",
        "        print(self.m,self.b)\n",
        "\n",
        "    def predict(self,X):\n",
        "        return self.m * X + self.b"
      ],
      "metadata": {
        "id": "eXr0HxNUPoBR"
      },
      "execution_count": 31,
      "outputs": []
    },
    {
      "cell_type": "code",
      "source": [],
      "metadata": {
        "id": "unQn1cPaPn95"
      },
      "execution_count": null,
      "outputs": []
    },
    {
      "cell_type": "code",
      "source": [
        "gd = GDRegressor(0.001,50)\n",
        "\n",
        "gd.fit(X_train,y_train)\n"
      ],
      "metadata": {
        "colab": {
          "base_uri": "https://localhost:8080/"
        },
        "id": "tbblGTAeUZmz",
        "outputId": "484cd861-3a11-46b2-9a07-d53584a52a85"
      },
      "execution_count": 26,
      "outputs": [
        {
          "output_type": "stream",
          "name": "stdout",
          "text": [
            "28.159367347119066 -2.3004574196824854\n"
          ]
        }
      ]
    },
    {
      "cell_type": "code",
      "source": [
        "y_pred = gd.predict(X_test)\n",
        "\n",
        "from sklearn.metrics import r2_score\n",
        "\n",
        "r2_score(y_test,y_pred)"
      ],
      "metadata": {
        "colab": {
          "base_uri": "https://localhost:8080/"
        },
        "id": "Y3xc1GlQVaGq",
        "outputId": "edb05c5c-c81a-4e0e-c55f-7ceb9e3b3cd7"
      },
      "execution_count": 29,
      "outputs": [
        {
          "output_type": "execute_result",
          "data": {
            "text/plain": [
              "0.6343842836315579"
            ]
          },
          "metadata": {},
          "execution_count": 29
        }
      ]
    },
    {
      "cell_type": "code",
      "source": [],
      "metadata": {
        "id": "uW_bkDCRZZvT"
      },
      "execution_count": null,
      "outputs": []
    },
    {
      "cell_type": "code",
      "source": [],
      "metadata": {
        "id": "_Nb2au1BZZqE"
      },
      "execution_count": null,
      "outputs": []
    },
    {
      "cell_type": "markdown",
      "source": [
        "#Types of Gradient Descent\n",
        "\n",
        "\n"
      ],
      "metadata": {
        "id": "pt6pddOMaIK4"
      }
    },
    {
      "cell_type": "code",
      "source": [],
      "metadata": {
        "id": "nBGUBAQKZZmk"
      },
      "execution_count": null,
      "outputs": []
    },
    {
      "cell_type": "code",
      "source": [],
      "metadata": {
        "id": "W2o0VWaecARz"
      },
      "execution_count": null,
      "outputs": []
    },
    {
      "cell_type": "markdown",
      "source": [
        "## 1. Batch Gradient Descent\n",
        "\n",
        "### Mean Squared Error Cost Function\n",
        "Batch Gradient Descent computes the gradient of the cost function using the entire dataset.\n",
        "\n",
        "$$\n",
        "J(m, b) = \\frac{1}{2n} \\sum_{i=1}^{n} (y_i - (mx_i + b))^2\n",
        "$$\n",
        "\n",
        "### Gradient with Respect to \\( m \\)\n",
        "$$\n",
        "\\frac{\\partial J}{\\partial m} = -\\frac{1}{n} \\sum_{i=1}^{n} x_i (y_i - (mx_i + b))\n",
        "$$\n",
        "\n",
        "### Gradient with Respect to \\( b \\)\n",
        "$$\n",
        "\\frac{\\partial J}{\\partial b} = -\\frac{1}{n} \\sum_{i=1}^{n} (y_i - (mx_i + b))\n",
        "$$\n",
        "\n",
        "### Update Rule for \\( m \\)\n",
        "$$\n",
        "m := m - \\alpha \\left( -\\frac{1}{n} \\sum_{i=1}^{n} x_i (y_i - (mx_i + b)) \\right)\n",
        "$$\n",
        "\n",
        "### Update Rule for \\( b \\)\n",
        "$$\n",
        "b := b - \\alpha \\left( -\\frac{1}{n} \\sum_{i=1}^{n} (y_i - (mx_i + b)) \\right)\n",
        "$$\n",
        "\n",
        "### Advantages\n",
        "- **Accuracy**: Provides a precise estimate of the gradient since it uses the entire dataset.\n",
        "- **Stable Updates**: Generally results in stable and smooth convergence to the minimum.\n",
        "\n",
        "### Disadvantages\n",
        "- **Computationally Expensive**: Can be very slow for large datasets as it requires processing the entire dataset for each update.\n",
        "- **Memory Usage**: Requires storing the entire dataset in memory, which may not be feasible for very large datasets."
      ],
      "metadata": {
        "id": "k0ypP2uvcA_B"
      }
    },
    {
      "cell_type": "code",
      "source": [],
      "metadata": {
        "id": "LITO994ccYPZ"
      },
      "execution_count": null,
      "outputs": []
    },
    {
      "cell_type": "code",
      "source": [
        "from sklearn.datasets import load_diabetes\n",
        "\n",
        "import numpy as np\n",
        "from sklearn.linear_model import LinearRegression\n",
        "from sklearn.metrics import r2_score\n",
        "from sklearn.model_selection import train_test_split"
      ],
      "metadata": {
        "id": "jI1Whp7tcivl"
      },
      "execution_count": 32,
      "outputs": []
    },
    {
      "cell_type": "code",
      "source": [
        "X,y = load_diabetes(return_X_y=True) # returning x and y explicitly"
      ],
      "metadata": {
        "id": "aS9-A1dcciyb"
      },
      "execution_count": 33,
      "outputs": []
    },
    {
      "cell_type": "code",
      "source": [
        "print(X.shape)\n",
        "print(y.shape)"
      ],
      "metadata": {
        "colab": {
          "base_uri": "https://localhost:8080/"
        },
        "id": "2u0CvIr8ci1L",
        "outputId": "d174cb45-fbdb-4ed9-8db5-e5c3eb987db0"
      },
      "execution_count": 40,
      "outputs": [
        {
          "output_type": "stream",
          "name": "stdout",
          "text": [
            "(442, 10)\n",
            "(442,)\n"
          ]
        }
      ]
    },
    {
      "cell_type": "code",
      "source": [
        "#X"
      ],
      "metadata": {
        "id": "DuswUXmNheme"
      },
      "execution_count": 59,
      "outputs": []
    },
    {
      "cell_type": "code",
      "source": [
        "X_train, X_test ,y_train , y_test = train_test_split(X,y,test_size=0.2,random_state=2)"
      ],
      "metadata": {
        "id": "A253Ak_Ici4r"
      },
      "execution_count": 50,
      "outputs": []
    },
    {
      "cell_type": "code",
      "source": [
        "reg = LinearRegression()\n",
        "reg.fit(X_train,y_train)"
      ],
      "metadata": {
        "colab": {
          "base_uri": "https://localhost:8080/",
          "height": 74
        },
        "id": "gdCg4orjh5Ww",
        "outputId": "2a13d6f0-0adb-42d9-85f2-254f1228f717"
      },
      "execution_count": 47,
      "outputs": [
        {
          "output_type": "execute_result",
          "data": {
            "text/plain": [
              "LinearRegression()"
            ],
            "text/html": [
              "<style>#sk-container-id-4 {color: black;}#sk-container-id-4 pre{padding: 0;}#sk-container-id-4 div.sk-toggleable {background-color: white;}#sk-container-id-4 label.sk-toggleable__label {cursor: pointer;display: block;width: 100%;margin-bottom: 0;padding: 0.3em;box-sizing: border-box;text-align: center;}#sk-container-id-4 label.sk-toggleable__label-arrow:before {content: \"▸\";float: left;margin-right: 0.25em;color: #696969;}#sk-container-id-4 label.sk-toggleable__label-arrow:hover:before {color: black;}#sk-container-id-4 div.sk-estimator:hover label.sk-toggleable__label-arrow:before {color: black;}#sk-container-id-4 div.sk-toggleable__content {max-height: 0;max-width: 0;overflow: hidden;text-align: left;background-color: #f0f8ff;}#sk-container-id-4 div.sk-toggleable__content pre {margin: 0.2em;color: black;border-radius: 0.25em;background-color: #f0f8ff;}#sk-container-id-4 input.sk-toggleable__control:checked~div.sk-toggleable__content {max-height: 200px;max-width: 100%;overflow: auto;}#sk-container-id-4 input.sk-toggleable__control:checked~label.sk-toggleable__label-arrow:before {content: \"▾\";}#sk-container-id-4 div.sk-estimator input.sk-toggleable__control:checked~label.sk-toggleable__label {background-color: #d4ebff;}#sk-container-id-4 div.sk-label input.sk-toggleable__control:checked~label.sk-toggleable__label {background-color: #d4ebff;}#sk-container-id-4 input.sk-hidden--visually {border: 0;clip: rect(1px 1px 1px 1px);clip: rect(1px, 1px, 1px, 1px);height: 1px;margin: -1px;overflow: hidden;padding: 0;position: absolute;width: 1px;}#sk-container-id-4 div.sk-estimator {font-family: monospace;background-color: #f0f8ff;border: 1px dotted black;border-radius: 0.25em;box-sizing: border-box;margin-bottom: 0.5em;}#sk-container-id-4 div.sk-estimator:hover {background-color: #d4ebff;}#sk-container-id-4 div.sk-parallel-item::after {content: \"\";width: 100%;border-bottom: 1px solid gray;flex-grow: 1;}#sk-container-id-4 div.sk-label:hover label.sk-toggleable__label {background-color: #d4ebff;}#sk-container-id-4 div.sk-serial::before {content: \"\";position: absolute;border-left: 1px solid gray;box-sizing: border-box;top: 0;bottom: 0;left: 50%;z-index: 0;}#sk-container-id-4 div.sk-serial {display: flex;flex-direction: column;align-items: center;background-color: white;padding-right: 0.2em;padding-left: 0.2em;position: relative;}#sk-container-id-4 div.sk-item {position: relative;z-index: 1;}#sk-container-id-4 div.sk-parallel {display: flex;align-items: stretch;justify-content: center;background-color: white;position: relative;}#sk-container-id-4 div.sk-item::before, #sk-container-id-4 div.sk-parallel-item::before {content: \"\";position: absolute;border-left: 1px solid gray;box-sizing: border-box;top: 0;bottom: 0;left: 50%;z-index: -1;}#sk-container-id-4 div.sk-parallel-item {display: flex;flex-direction: column;z-index: 1;position: relative;background-color: white;}#sk-container-id-4 div.sk-parallel-item:first-child::after {align-self: flex-end;width: 50%;}#sk-container-id-4 div.sk-parallel-item:last-child::after {align-self: flex-start;width: 50%;}#sk-container-id-4 div.sk-parallel-item:only-child::after {width: 0;}#sk-container-id-4 div.sk-dashed-wrapped {border: 1px dashed gray;margin: 0 0.4em 0.5em 0.4em;box-sizing: border-box;padding-bottom: 0.4em;background-color: white;}#sk-container-id-4 div.sk-label label {font-family: monospace;font-weight: bold;display: inline-block;line-height: 1.2em;}#sk-container-id-4 div.sk-label-container {text-align: center;}#sk-container-id-4 div.sk-container {/* jupyter's `normalize.less` sets `[hidden] { display: none; }` but bootstrap.min.css set `[hidden] { display: none !important; }` so we also need the `!important` here to be able to override the default hidden behavior on the sphinx rendered scikit-learn.org. See: https://github.com/scikit-learn/scikit-learn/issues/21755 */display: inline-block !important;position: relative;}#sk-container-id-4 div.sk-text-repr-fallback {display: none;}</style><div id=\"sk-container-id-4\" class=\"sk-top-container\"><div class=\"sk-text-repr-fallback\"><pre>LinearRegression()</pre><b>In a Jupyter environment, please rerun this cell to show the HTML representation or trust the notebook. <br />On GitHub, the HTML representation is unable to render, please try loading this page with nbviewer.org.</b></div><div class=\"sk-container\" hidden><div class=\"sk-item\"><div class=\"sk-estimator sk-toggleable\"><input class=\"sk-toggleable__control sk-hidden--visually\" id=\"sk-estimator-id-4\" type=\"checkbox\" checked><label for=\"sk-estimator-id-4\" class=\"sk-toggleable__label sk-toggleable__label-arrow\">LinearRegression</label><div class=\"sk-toggleable__content\"><pre>LinearRegression()</pre></div></div></div></div></div>"
            ]
          },
          "metadata": {},
          "execution_count": 47
        }
      ]
    },
    {
      "cell_type": "code",
      "source": [
        "print(reg.coef_)\n",
        "print(reg.intercept_)"
      ],
      "metadata": {
        "colab": {
          "base_uri": "https://localhost:8080/"
        },
        "id": "4CMu_avrgSMD",
        "outputId": "c9972118-4952-4f4f-d0a9-cb109569a1a4"
      },
      "execution_count": 48,
      "outputs": [
        {
          "output_type": "stream",
          "name": "stdout",
          "text": [
            "[  -9.15865318 -205.45432163  516.69374454  340.61999905 -895.5520019\n",
            "  561.22067904  153.89310954  126.73139688  861.12700152   52.42112238]\n",
            "151.88331005254167\n"
          ]
        }
      ]
    },
    {
      "cell_type": "code",
      "source": [
        "y_pred = reg.predict(X_test)\n",
        "r2_score(y_test,y_pred)"
      ],
      "metadata": {
        "colab": {
          "base_uri": "https://localhost:8080/"
        },
        "id": "WVufMUsRgSTE",
        "outputId": "f124bd9e-bcd4-4de9-a507-7b4d2490cc8f"
      },
      "execution_count": 51,
      "outputs": [
        {
          "output_type": "execute_result",
          "data": {
            "text/plain": [
              "0.4399338661568968"
            ]
          },
          "metadata": {},
          "execution_count": 51
        }
      ]
    },
    {
      "cell_type": "code",
      "source": [],
      "metadata": {
        "id": "5YuRNGKogSW_"
      },
      "execution_count": null,
      "outputs": []
    },
    {
      "cell_type": "markdown",
      "source": [
        "# class for batch gradient descent"
      ],
      "metadata": {
        "id": "NKHBrN5LiFGF"
      }
    },
    {
      "cell_type": "code",
      "source": [
        "\n",
        "class GDRegressor:\n",
        "\n",
        "    def __init__(self,learning_rate=0.01,epochs=100):\n",
        "\n",
        "        self.coef_ = None\n",
        "        self.intercept_ = None\n",
        "        self.lr = learning_rate\n",
        "        self.epochs = epochs\n",
        "\n",
        "    def fit(self,X_train,y_train):\n",
        "        # init your coefs\n",
        "        self.intercept_ = 0\n",
        "        self.coef_ = np.ones(X_train.shape[1])\n",
        "\n",
        "        for i in range(self.epochs):\n",
        "            # update all the coef and the intercept\n",
        "            y_hat = np.dot(X_train,self.coef_) + self.intercept_\n",
        "            #print(\"Shape of y_hat\",y_hat.shape)\n",
        "            intercept_der = -2 * np.mean(y_train - y_hat)\n",
        "            self.intercept_ = self.intercept_ - (self.lr * intercept_der)\n",
        "\n",
        "            coef_der = -2 * np.dot((y_train - y_hat),X_train)/X_train.shape[0]\n",
        "            self.coef_ = self.coef_ - (self.lr * coef_der)\n",
        "\n",
        "        print(self.intercept_,self.coef_)\n",
        "\n",
        "    def predict(self,X_test):\n",
        "        return np.dot(X_test,self.coef_) + self.intercept_"
      ],
      "metadata": {
        "id": "rWghRkDwgSch"
      },
      "execution_count": 54,
      "outputs": []
    },
    {
      "cell_type": "code",
      "source": [
        "gdr = GDRegressor(epochs =1000,learning_rate=0.5)\n",
        "\n",
        "gdr.fit(X_train,y_train)"
      ],
      "metadata": {
        "colab": {
          "base_uri": "https://localhost:8080/"
        },
        "id": "LZyTd96TgSfV",
        "outputId": "7841490a-8f8f-41ed-8ed1-d2be0ae70b53"
      },
      "execution_count": 56,
      "outputs": [
        {
          "output_type": "stream",
          "name": "stdout",
          "text": [
            "152.01351687661833 [  14.38990585 -173.7235727   491.54898524  323.91524824  -39.32648042\n",
            " -116.01061213 -194.04077415  103.38135565  451.63448787   97.57218278]\n"
          ]
        }
      ]
    },
    {
      "cell_type": "code",
      "source": [
        "y_pred = gdr.predict(X_test)"
      ],
      "metadata": {
        "id": "esC67s1Xjfs0"
      },
      "execution_count": 57,
      "outputs": []
    },
    {
      "cell_type": "code",
      "source": [
        "r2_score(y_test,y_pred)"
      ],
      "metadata": {
        "colab": {
          "base_uri": "https://localhost:8080/"
        },
        "id": "5MkXAD2CjfpP",
        "outputId": "214110a0-21a2-4ecc-fe94-20e5e6e6f5aa"
      },
      "execution_count": 58,
      "outputs": [
        {
          "output_type": "execute_result",
          "data": {
            "text/plain": [
              "0.4534503034722803"
            ]
          },
          "metadata": {},
          "execution_count": 58
        }
      ]
    },
    {
      "cell_type": "code",
      "source": [],
      "metadata": {
        "id": "IKc-_Fnujfm0"
      },
      "execution_count": null,
      "outputs": []
    },
    {
      "cell_type": "code",
      "source": [],
      "metadata": {
        "id": "YYmwyLZRjfjc"
      },
      "execution_count": null,
      "outputs": []
    },
    {
      "cell_type": "markdown",
      "source": [
        "## 2. Stochastic Gradient Descent (SGD)\n",
        "\n",
        "Stochastic Gradient Descent updates the parameters using only one data point at a time.\n",
        "\n",
        "### Cost Function\n",
        "The cost function is the same as in Batch Gradient Descent:\n",
        "\n",
        "$$\n",
        "J(m, b) = \\frac{1}{2n} \\sum_{i=1}^{n} (y_i - (mx_i + b))^2\n",
        "$$\n",
        "\n",
        "### Gradient with Respect to \\( m \\) (for a single data point)\n",
        "$$\n",
        "\\frac{\\partial J}{\\partial m} \\approx -x_i (y_i - (mx_i + b))\n",
        "$$\n",
        "\n",
        "### Gradient with Respect to \\( b \\) (for a single data point)\n",
        "$$\n",
        "\\frac{\\partial J}{\\partial b} \\approx -(y_i - (mx_i + b))\n",
        "$$\n",
        "\n",
        "### Update Rule for \\( m \\)\n",
        "$$\n",
        "m := m - \\alpha \\left( -x_i (y_i - (mx_i + b)) \\right)\n",
        "$$\n",
        "\n",
        "### Update Rule for \\( b \\)\n",
        "$$\n",
        "b := b - \\alpha \\left( -(y_i - (mx_i + b)) \\right)\n",
        "$$\n",
        "\n",
        "### Advantages\n",
        "- **Efficiency**: Requires less memory and computational resources as it processes one data point at a time.\n",
        "- **Faster Convergence**: Can converge faster than Batch Gradient Descent due to frequent updates, which can be beneficial for large datasets.\n",
        "\n",
        "### Disadvantages\n",
        "- **Noisy Updates**: Updates can be noisy and may lead to oscillations or divergence if not properly tuned.\n",
        "- **Less Accurate**: The gradient is computed based on a single data point, which can lead to less accurate updates compared to Batch Gradient Descent."
      ],
      "metadata": {
        "id": "PZnpRMCVcjeB"
      }
    },
    {
      "cell_type": "code",
      "source": [],
      "metadata": {
        "id": "AJsY7YL6cuvR"
      },
      "execution_count": null,
      "outputs": []
    },
    {
      "cell_type": "markdown",
      "source": [
        "## class for stochastic-gradient-descent"
      ],
      "metadata": {
        "id": "h6INmpIIkf17"
      }
    },
    {
      "cell_type": "code",
      "source": [
        "class SGDRegressor:\n",
        "\n",
        "    def __init__(self,learning_rate=0.01,epochs=100):\n",
        "\n",
        "        self.coef_ = None\n",
        "        self.intercept_ = None\n",
        "        self.lr = learning_rate\n",
        "        self.epochs = epochs\n",
        "\n",
        "    def fit(self,X_train,y_train):\n",
        "        # init your coefs\n",
        "        self.intercept_ = 0\n",
        "        self.coef_ = np.ones(X_train.shape[1])\n",
        "\n",
        "        for i in range(self.epochs):\n",
        "            for j in range(X_train.shape[0]):\n",
        "                idx = np.random.randint(0,X_train.shape[0])\n",
        "\n",
        "                y_hat = np.dot(X_train[idx],self.coef_) + self.intercept_\n",
        "\n",
        "                intercept_der = -2 * (y_train[idx] - y_hat)\n",
        "                self.intercept_ = self.intercept_ - (self.lr * intercept_der)\n",
        "\n",
        "                coef_der = -2 * np.dot((y_train[idx] - y_hat),X_train[idx])\n",
        "                self.coef_ = self.coef_ - (self.lr * coef_der)\n",
        "\n",
        "        print(self.intercept_,self.coef_)\n",
        "\n",
        "    def predict(self,X_test):\n",
        "        return np.dot(X_test,self.coef_) + self.intercept_\n"
      ],
      "metadata": {
        "id": "TV1PDJ16curl"
      },
      "execution_count": 67,
      "outputs": []
    },
    {
      "cell_type": "code",
      "source": [
        "sgd = SGDRegressor(learning_rate=0.01,epochs=40)"
      ],
      "metadata": {
        "id": "yhMz_c24cunR"
      },
      "execution_count": 68,
      "outputs": []
    },
    {
      "cell_type": "code",
      "source": [
        "sgd.fit(X_train,y_train)\n",
        "y_pred = sgd.predict(X_test)"
      ],
      "metadata": {
        "colab": {
          "base_uri": "https://localhost:8080/"
        },
        "id": "YS0BtUgncukC",
        "outputId": "9bdaeec2-38e0-4746-ba45-aeb82ee344c2"
      },
      "execution_count": 69,
      "outputs": [
        {
          "output_type": "stream",
          "name": "stdout",
          "text": [
            "160.19074995429037 [  62.16642768  -38.65675442  321.32806586  228.21971075   30.4041768\n",
            "   -5.46780503 -158.86115166  128.32518424  280.43720127  121.36138455]\n"
          ]
        }
      ]
    },
    {
      "cell_type": "code",
      "source": [
        "\n",
        "r2_score(y_test,y_pred)"
      ],
      "metadata": {
        "colab": {
          "base_uri": "https://localhost:8080/"
        },
        "id": "JdPr3Eha72bw",
        "outputId": "8609f705-4900-490e-d6bc-b38f37872254"
      },
      "execution_count": 70,
      "outputs": [
        {
          "output_type": "execute_result",
          "data": {
            "text/plain": [
              "0.4078132440185448"
            ]
          },
          "metadata": {},
          "execution_count": 70
        }
      ]
    },
    {
      "cell_type": "code",
      "source": [],
      "metadata": {
        "id": "BRI4Pukv72Wd"
      },
      "execution_count": null,
      "outputs": []
    },
    {
      "cell_type": "markdown",
      "source": [
        "## 3. Mini-Batch Gradient Descent\n",
        "\n",
        "Mini-Batch Gradient Descent is a compromise between Batch and Stochastic Gradient Descent. It uses a subset of the data, called a mini-batch, for each update.\n",
        "\n",
        "### Cost Function\n",
        "The cost function is still the same:\n",
        "\n",
        "$$\n",
        "J(m, b) = \\frac{1}{2n} \\sum_{i=1}^{n} (y_i - (mx_i + b))^2\n",
        "$$\n",
        "\n",
        "### Gradient with Respect to \\( m \\) (for a mini-batch)\n",
        "$$\n",
        "\\frac{\\partial J}{\\partial m} = -\\frac{1}{m} \\sum_{i=1}^{m} x_i (y_i - (mx_i + b))\n",
        "$$\n",
        "\n",
        "### Gradient with Respect to \\( b \\) (for a mini-batch)\n",
        "$$\n",
        "\\frac{\\partial J}{\\partial b} = -\\frac{1}{m} \\sum_{i=1}^{m} (y_i - (mx_i + b))\n",
        "$$\n",
        "\n",
        "### Update Rule for \\( m \\)\n",
        "$$\n",
        "m := m - \\alpha \\left( -\\frac{1}{m} \\sum_{i=1}^{m} x_i (y_i - (mx_i + b)) \\right)\n",
        "$$\n",
        "\n",
        "### Update Rule for \\( b \\)\n",
        "$$\n",
        "b := b - \\alpha \\left( -\\frac{1}{m} \\sum_{i=1}^{m} (y_i - (mx_i + b)) \\right)\n",
        "$$\n",
        "\n",
        "### Advantages\n",
        "- **Balanced Approach**: Balances the computational efficiency and convergence stability. It benefits from faster convergence while still providing more stable updates than SGD.\n",
        "- **Memory Efficient**: More memory-efficient than Batch Gradient Descent, especially for large datasets.\n",
        "\n",
        "### Disadvantages\n",
        "- **Tuning Required**: Requires careful tuning of the mini-batch size and learning rate to achieve optimal performance.\n",
        "- **Still Noisy**: While less noisy than SGD, the updates can still be somewhat noisy compared to Batch Gradient Descent.\n",
        "\n",
        "\n"
      ],
      "metadata": {
        "id": "-bmUahgHcvRJ"
      }
    },
    {
      "cell_type": "code",
      "source": [],
      "metadata": {
        "id": "ELjkrjsdcx0o"
      },
      "execution_count": null,
      "outputs": []
    },
    {
      "cell_type": "code",
      "source": [
        "import random\n",
        "class MBGDRegressor:\n",
        "\n",
        "    def __init__(self,batch_size,learning_rate=0.01,epochs=100):\n",
        "\n",
        "        self.coef_ = None\n",
        "        self.intercept_ = None\n",
        "        self.lr = learning_rate\n",
        "        self.epochs = epochs\n",
        "        self.batch_size = batch_size\n",
        "\n",
        "    def fit(self,X_train,y_train):\n",
        "        # init your coefs\n",
        "        self.intercept_ = 0\n",
        "        self.coef_ = np.ones(X_train.shape[1])\n",
        "\n",
        "        for i in range(self.epochs):\n",
        "\n",
        "            for j in range(int(X_train.shape[0]/self.batch_size)):\n",
        "\n",
        "                idx = random.sample(range(X_train.shape[0]),self.batch_size)\n",
        "\n",
        "                y_hat = np.dot(X_train[idx],self.coef_) + self.intercept_\n",
        "                #print(\"Shape of y_hat\",y_hat.shape)\n",
        "                intercept_der = -2 * np.mean(y_train[idx] - y_hat)\n",
        "                self.intercept_ = self.intercept_ - (self.lr * intercept_der)\n",
        "\n",
        "                coef_der = -2 * np.dot((y_train[idx] - y_hat),X_train[idx])\n",
        "                self.coef_ = self.coef_ - (self.lr * coef_der)\n",
        "\n",
        "        print(self.intercept_,self.coef_)\n",
        "\n",
        "    def predict(self,X_test):\n",
        "        return np.dot(X_test,self.coef_) + self.intercept_"
      ],
      "metadata": {
        "id": "sqreP8RScyAi"
      },
      "execution_count": 79,
      "outputs": []
    },
    {
      "cell_type": "code",
      "source": [
        "\n",
        "mbr = MBGDRegressor(batch_size=int(X_train.shape[0]/50),learning_rate=0.01,epochs=100)"
      ],
      "metadata": {
        "id": "IUepX2c1cx6Q"
      },
      "execution_count": 80,
      "outputs": []
    },
    {
      "cell_type": "code",
      "source": [
        "\n",
        "mbr.fit(X_train,y_train)"
      ],
      "metadata": {
        "colab": {
          "base_uri": "https://localhost:8080/"
        },
        "id": "Q6Yf4HO480PJ",
        "outputId": "6a0b52e2-3e2c-4add-c516-54a04c11a49c"
      },
      "execution_count": 81,
      "outputs": [
        {
          "output_type": "stream",
          "name": "stdout",
          "text": [
            "152.61435435834505 [  29.12953505 -146.71650344  458.97700281  300.91376833  -28.46766282\n",
            "  -95.68329806 -192.80965602  110.09448874  406.26912159  124.58353199]\n"
          ]
        }
      ]
    },
    {
      "cell_type": "code",
      "source": [
        "y_pred = mbr.predict(X_test)"
      ],
      "metadata": {
        "id": "8AEWZQ3a80NJ"
      },
      "execution_count": 82,
      "outputs": []
    },
    {
      "cell_type": "code",
      "source": [
        "\n",
        "r2_score(y_test,y_pred)"
      ],
      "metadata": {
        "colab": {
          "base_uri": "https://localhost:8080/"
        },
        "id": "0tfw6iQ480KR",
        "outputId": "d8b59f29-1afc-49b2-eb44-c517702c133d"
      },
      "execution_count": 83,
      "outputs": [
        {
          "output_type": "execute_result",
          "data": {
            "text/plain": [
              "0.4550694086875028"
            ]
          },
          "metadata": {},
          "execution_count": 83
        }
      ]
    },
    {
      "cell_type": "code",
      "source": [],
      "metadata": {
        "id": "5fxF9Jf380G4"
      },
      "execution_count": null,
      "outputs": []
    },
    {
      "cell_type": "markdown",
      "source": [
        "## Summary\n",
        "\n",
        "- **Batch Gradient Descent**: Uses the entire dataset, providing precise gradients and stable convergence, but is computationally expensive and requires significant memory.\n",
        "- **Stochastic Gradient Descent (SGD)**: Uses single data points for updates, making it more memory-efficient and faster for large datasets, but can be noisy and less accurate.\n",
        "- **Mini-Batch Gradient Descent**: Offers a balance between accuracy and efficiency by using a subset of the data, combining benefits from both Batch and SGD but requiring careful tuning.\n",
        "\n",
        "Feel free to modify the learning rate \\(\\alpha\\) and other hyperparameters as needed for your specific problem."
      ],
      "metadata": {
        "id": "p5LoByNncyjo"
      }
    }
  ]
}